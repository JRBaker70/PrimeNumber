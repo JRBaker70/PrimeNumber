{
 "cells": [
  {
   "cell_type": "code",
   "execution_count": 1,
   "metadata": {},
   "outputs": [
    {
     "name": "stdout",
     "output_type": "stream",
     "text": [
      "2 3 5 7 11 13 17 19 23 29 31 37 41 43 47 53 59 61 67 71 73 79 83 89 97 "
     ]
    }
   ],
   "source": [
    "import time\n",
    "    \n",
    "# function that finds and prints the prime numbers between a given range. \n",
    "def prime_num_finder(start_num, end_num):\n",
    "    for possible_prime in range(start_num, end_num + 1): # Use end_num + 1 as the range fucntion include the last (stop) number in the result. \n",
    "        if possible_prime > 1: # 1 is not a prime number.\n",
    "            for i in range(2,possible_prime):\n",
    "                if (possible_prime % i) == 0:\n",
    "                    # checks the modulus of possible_prime against all the numbers in range 2 to possible_prime\n",
    "                    break\n",
    "            else:\n",
    "                print(possible_prime, end =\" \"),\n",
    "                time.sleep(1)\n",
    "                # prints out the prime numbers on the same line with a 1 second interview between each one \n",
    "    return\n",
    "\n",
    "prime_num_finder(1,100)"
   ]
  },
  {
   "cell_type": "code",
   "execution_count": null,
   "metadata": {},
   "outputs": [],
   "source": []
  }
 ],
 "metadata": {
  "kernelspec": {
   "display_name": "Python 3",
   "language": "python",
   "name": "python3"
  },
  "language_info": {
   "codemirror_mode": {
    "name": "ipython",
    "version": 3
   },
   "file_extension": ".py",
   "mimetype": "text/x-python",
   "name": "python",
   "nbconvert_exporter": "python",
   "pygments_lexer": "ipython3",
   "version": "3.7.5"
  }
 },
 "nbformat": 4,
 "nbformat_minor": 4
}
